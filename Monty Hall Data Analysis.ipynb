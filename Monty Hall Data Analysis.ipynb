{
 "cells": [
  {
   "cell_type": "code",
   "execution_count": 2,
   "metadata": {},
   "outputs": [],
   "source": [
    "#imports\n",
    "import numpy as np\n",
    "import matplotlib as plt\n",
    "import pandas as pd"
   ]
  },
  {
   "cell_type": "code",
   "execution_count": 34,
   "metadata": {},
   "outputs": [
    {
     "name": "stdout",
     "output_type": "stream",
     "text": [
      "The win percentage of switching guesses: 66.53999999999999\n"
     ]
    }
   ],
   "source": [
    "\"\"\"\n",
    "simulate_prizedoor:\n",
    "\n",
    "Creates and returns an array of numbers between 0-2 to decided doors that \n",
    "would have a prize. It takes nsim as parameter which is the number of times\n",
    "to run the simuation.\n",
    "\n",
    "\"\"\"\n",
    "\n",
    "def simulate_prizedoor(nsim):\n",
    "    prizes = np.random.randint(3,size=nsim)\n",
    "    return prizes \n",
    "\n",
    "\"\"\"\n",
    "simulate_guess:\n",
    "\n",
    "Creates and returns an array of numbers between 0-2 to decide what a contestants\n",
    "guess would be. It takes nsim as parameter which is the number of times\n",
    "to run the simuation.\n",
    "\n",
    "\"\"\"\n",
    "def simulate_guess(nsim):\n",
    "    sims = np.random.randint(3,size=nsim)\n",
    "    return sims\n",
    "\n",
    "\"\"\"\n",
    "goat_door:\n",
    "\n",
    "Creates and returns an array of numbers what would be the door revealed with a goat. \n",
    "It takes the array of prize doors and guesses as parameters. The function generates a random number\n",
    "for each iteration, if the number is euqal to either the prize door or the guess it repicks the number till it gets\n",
    "one that is not.\n",
    "\n",
    "\"\"\"\n",
    "\n",
    "def goat_door(prizedoors, guesses):\n",
    "    goats =[]\n",
    "    for i in range(prizedoors.size):\n",
    "        flag = False;\n",
    "        while (flag == False):\n",
    "            result = np.random.randint(3)\n",
    "            if(result != prizedoors[i] and result != guesses[i]):\n",
    "                goats.append(result)\n",
    "                flag = True;\n",
    "    return goats;\n",
    "\n",
    "\"\"\"\n",
    "switch_guess:\n",
    "\n",
    "Creates and returns an array of numbers what would be the guess if the contestant switch their guess when a goat was revealed. \n",
    "It takes the array of guesses and goatdoors as parameters. The function generates a random number\n",
    "for each iteration, if the number is euqal to either the goat door or the guess it repicks the number till it gets\n",
    "one that is not.\n",
    "\n",
    "\"\"\"\n",
    "\n",
    "def switch_guess(guesses,goatdoors):\n",
    "    new_guess = []\n",
    "    for i in range(guesses.size):\n",
    "        flag = False;\n",
    "        while (flag == False):\n",
    "            result = np.random.randint(3)\n",
    "            if(result != guesses[i] and result != goatdoors[i]):\n",
    "                new_guess.append(result)\n",
    "                flag = True;\n",
    "    return new_guess\n",
    "\n",
    "\n",
    "\"\"\"\n",
    "win_percentage:\n",
    "\n",
    "Calculates the win percentage by comparing corresponding guesses and prize doors.\n",
    "When both are equal to each other the count variable goes up by one. once the \n",
    "end of the for loop is reached you take the count and divied it by the number of simulations\n",
    "and multiply it by 100 to get the win percentage.\n",
    "\n",
    "\"\"\"\n",
    "\n",
    "def win_percentage(switch_guess,prizedoors):\n",
    "    count = 0\n",
    "    for i in range(prizedoors.size):\n",
    "        if(switch_guess[i] == prizedoors[i]):\n",
    "            count += 1\n",
    "    return 100*(count/prizedoors.size)\n",
    "    \n",
    "x=simulate_prizedoor(10000)\n",
    "y=simulate_guess(10000)\n",
    "goats = goat_door(x, y)\n",
    "switched_guesses = switch_guess(y,goats)\n",
    "# print(\"prizes:\",x)\n",
    "# print(\"guesses:\",y)\n",
    "# print(\"Switch guesses:\",switched_guesses)\n",
    "# print(\"Goats:\",goats)\n",
    "print(\"The win percentage of switching guesses:\", win_percentage(switched_guesses,x))\n",
    "\n"
   ]
  },
  {
   "cell_type": "code",
   "execution_count": null,
   "metadata": {},
   "outputs": [],
   "source": []
  },
  {
   "cell_type": "code",
   "execution_count": null,
   "metadata": {},
   "outputs": [],
   "source": []
  },
  {
   "cell_type": "code",
   "execution_count": null,
   "metadata": {},
   "outputs": [],
   "source": []
  }
 ],
 "metadata": {
  "kernelspec": {
   "display_name": "Python 3",
   "language": "python",
   "name": "python3"
  },
  "language_info": {
   "codemirror_mode": {
    "name": "ipython",
    "version": 3
   },
   "file_extension": ".py",
   "mimetype": "text/x-python",
   "name": "python",
   "nbconvert_exporter": "python",
   "pygments_lexer": "ipython3",
   "version": "3.6.2"
  }
 },
 "nbformat": 4,
 "nbformat_minor": 2
}
